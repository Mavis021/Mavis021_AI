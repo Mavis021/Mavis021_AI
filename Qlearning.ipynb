{
  "nbformat": 4,
  "nbformat_minor": 0,
  "metadata": {
    "colab": {
      "provenance": []
    },
    "kernelspec": {
      "name": "python3",
      "display_name": "Python 3"
    },
    "language_info": {
      "name": "python"
    }
  },
  "cells": [
    {
      "cell_type": "code",
      "execution_count": 1,
      "metadata": {
        "id": "-e4PisB9nMsH"
      },
      "outputs": [],
      "source": [
        "import numpy as np"
      ]
    },
    {
      "cell_type": "code",
      "source": [
        "K=5 # K-Arms\n",
        "epsilon=0.3 # Exploration rate high\n",
        "num_impression = 1000\n",
        "\n",
        "true_click_probabilities = np.array([0.25,0.16, 0.2, 0.28, 0.12])"
      ],
      "metadata": {
        "id": "ZuYl-U_AnmTt"
      },
      "execution_count": 7,
      "outputs": []
    },
    {
      "cell_type": "code",
      "source": [
        "def epsilon_greedy(epsilon, num_impression):\n",
        "  estimated_clicks = np.zeros(K)\n",
        "  num_selection = np.zeros(K)\n",
        "  clicks = np.zeros(num_impression)\n",
        "\n",
        "  for impression in range(num_impression):\n",
        "    if np.random.rand() < epsilon:\n",
        "      ad = np.random.randint(K) #Explore\n",
        "    else:\n",
        "      ad = np.argmax(estimated_clicks) #Exploit\n",
        "\n",
        "    click = np.random.rand() < true_click_probabilities[ad]\n",
        "    num_selection[ad] += 1\n",
        "    estimated_clicks[ad] += (click - estimated_clicks[ad]) # / num_selection[ad]\n",
        "    clicks[impression] = click\n",
        "\n",
        "  total_clicks = np.sum(clicks)\n",
        "\n",
        "  return total_clicks"
      ],
      "metadata": {
        "id": "pDUUbK0OoT75"
      },
      "execution_count": 4,
      "outputs": []
    },
    {
      "cell_type": "code",
      "source": [
        "def ucb(num_impression):\n",
        "  estimated_clicks = np.zeros(K)\n",
        "  num_selection = np.zeros(K)\n",
        "  clicks = np.zeros(num_impression)\n",
        "\n",
        "  for impression in range(num_impression):\n",
        "    if impression < K:\n",
        "      ad = impression\n",
        "    else:\n",
        "      ucb_values = estimated_clicks * np.sqrt(np.log(impression) / num_selection)\n",
        "      ad = np.argmax(ucb_values)\n",
        "\n",
        "    click = np.random.rand() < true_click_probabilities[ad]\n",
        "    num_selection[ad] += 1\n",
        "    estimated_clicks[ad] += (click - estimated_clicks[ad]) # / num_selection[ad]\n",
        "    clicks[impression] = click\n",
        "\n",
        "  total_clicks = np.sum(clicks)\n",
        "\n",
        "  return total_clicks"
      ],
      "metadata": {
        "id": "VH2G1QLVph2d"
      },
      "execution_count": 5,
      "outputs": []
    },
    {
      "cell_type": "code",
      "source": [
        "np.random.seed(10)\n",
        "epsilon_greedy_clicks = epsilon_greedy(epsilon, num_impression)\n",
        "ucb_clicks = ucb(num_impression)\n",
        "\n",
        "print(f\"Epsilon Greedy total clicks: {epsilon_greedy_clicks}\")\n",
        "print(f\"UCB total clicks: {ucb_clicks}\")"
      ],
      "metadata": {
        "colab": {
          "base_uri": "https://localhost:8080/"
        },
        "id": "jAnj-iZptG8Z",
        "outputId": "548a88a7-3142-4843-b3e7-f6a1a083ef13"
      },
      "execution_count": 8,
      "outputs": [
        {
          "output_type": "stream",
          "name": "stdout",
          "text": [
            "Epsilon Greedy total clicks: 245.0\n",
            "UCB total clicks: 223.0\n"
          ]
        }
      ]
    },
    {
      "cell_type": "markdown",
      "source": [
        "### Qlearning"
      ],
      "metadata": {
        "id": "3XgJJe9RxRNd"
      }
    },
    {
      "cell_type": "code",
      "source": [
        "import gym\n",
        "import numpy as np\n",
        "from IPython.display import display , clear_output\n",
        "import time"
      ],
      "metadata": {
        "id": "zJOXjQhQt7GH"
      },
      "execution_count": 9,
      "outputs": []
    },
    {
      "cell_type": "code",
      "source": [
        "from types import MethodWrapperType\n",
        "env = gym.make(\"Taxi-v3\")\n",
        "env.reset()\n",
        "output = env.render(mode='ansi')\n",
        "clear_output(wait=True)\n",
        "print(output)"
      ],
      "metadata": {
        "colab": {
          "base_uri": "https://localhost:8080/"
        },
        "id": "0DQNgWPGxsnQ",
        "outputId": "22007af3-a3a2-49eb-8704-656408c34c69"
      },
      "execution_count": 10,
      "outputs": [
        {
          "output_type": "stream",
          "name": "stdout",
          "text": [
            "+---------+\n",
            "|\u001b[34;1mR\u001b[0m: | : :G|\n",
            "| : | : : |\n",
            "| : :\u001b[43m \u001b[0m: : |\n",
            "| | : | : |\n",
            "|\u001b[35mY\u001b[0m| : |B: |\n",
            "+---------+\n",
            "\n",
            "\n"
          ]
        }
      ]
    },
    {
      "cell_type": "code",
      "source": [
        "env = gym.make(\"Taxi-v3\")\n",
        "\n",
        "num_action = env.action_space.n\n",
        "num_state = env.observation_space.n\n",
        "\n",
        "Q = np.zeros((num_state, num_action))\n",
        "\n",
        "learning_rate = 0.1\n",
        "discount_rate = 0.99\n",
        "epsilon = 0.9\n",
        "epsilon_decay = 0.99\n",
        "min_epsilon = 0.1\n",
        "\n",
        "num_episodes = 2\n",
        "\n",
        "def render_env(env, reward):\n",
        "  output = env.render(mode='ansi')\n",
        "  clear_output(wait=True)\n",
        "  print(output)\n",
        "  print(f\"Reward: {reward}\")\n",
        "  time.sleep(0.5)\n",
        "\n",
        "\n",
        "for episode in range(num_episodes):\n",
        "  state = env.reset()\n",
        "  done = False\n",
        "  total_reward = 0\n",
        "\n",
        "  while not done:\n",
        "    if np.random.rand() < epsilon:\n",
        "      action = env.action_space.sample()\n",
        "    else:\n",
        "      action = np.argmax(Q[state])\n",
        "\n",
        "    next_state, reward, done, _ = env.step(action)\n",
        "\n",
        "    best_next_action = np.argmax(Q[next_state])\n",
        "    Q[state, action] += learning_rate * (reward + discount_rate * Q[next_state, best_next_action] - Q[state, action])\n",
        "\n",
        "    state = next_state\n",
        "    render_env(env, reward)\n",
        "    time.sleep(0.5)\n",
        "\n",
        "    total_reward += reward\n",
        "\n",
        "  epsilon *= epsilon_decay\n",
        "  epsilon = max(min_epsilon, epsilon)\n",
        "\n",
        "  print(f\"Episode: {episode + 1}, Total Reward: {total_reward}\")"
      ],
      "metadata": {
        "colab": {
          "base_uri": "https://localhost:8080/"
        },
        "id": "yOOAtIcByxHW",
        "outputId": "8e3b1bb5-27ea-49a0-834e-eabca05ac4b6"
      },
      "execution_count": 11,
      "outputs": [
        {
          "output_type": "stream",
          "name": "stdout",
          "text": [
            "+---------+\n",
            "|R: | : :\u001b[35mG\u001b[0m|\n",
            "| : | : : |\n",
            "| : : :\u001b[42m_\u001b[0m: |\n",
            "| | : | : |\n",
            "|Y| : |B: |\n",
            "+---------+\n",
            "  (Dropoff)\n",
            "\n",
            "Reward: -10\n",
            "Episode: 2, Total Reward: -731\n"
          ]
        }
      ]
    },
    {
      "cell_type": "code",
      "source": [],
      "metadata": {
        "id": "FIU7bEWr3T6T"
      },
      "execution_count": null,
      "outputs": []
    }
  ]
}